{
 "cells": [
  {
   "cell_type": "code",
   "execution_count": 1,
   "id": "2ab95554",
   "metadata": {},
   "outputs": [],
   "source": [
    "#RERUN THIS IF YOUR CONNECTION GETS RESET\n",
    "\n",
    "#import pandas:\n",
    "import pandas as pd\n",
    "#import numpy:\n",
    "import numpy as np\n",
    "#matplotlib\n",
    "import matplotlib.pyplot as plt\n",
    "%matplotlib inline\n",
    "\n",
    "#several others\n",
    "import scipy\n",
    "import sklearn\n",
    "import os as os\n",
    "\n",
    "#let's test out the relationships\n",
    "import seaborn as sn\n",
    "import matplotlib.pyplot as plt\n",
    "\n",
    "#regression\n",
    "from statsmodels.api import OLS\n",
    "import statsmodels.formula.api as smf\n",
    "\n",
    "#load some libraries\n",
    "from sklearn.preprocessing import scale\n",
    "from sklearn.decomposition import PCA\n",
    "from sklearn.cluster import KMeans\n",
    "\n",
    "from scipy.cluster import hierarchy\n",
    "\n",
    "#take the exponential\n",
    "import math\n",
    "\n",
    "#import regression libraries\n",
    "from sklearn.model_selection import train_test_split \n",
    "from sklearn.linear_model import LogisticRegression\n",
    "from sklearn.metrics import classification_report, confusion_matrix\n",
    "import statsmodels.api as sm\n",
    "\n",
    "#import os as os\n",
    "#import statsmodels.api as sm"
   ]
  },
  {
   "cell_type": "code",
   "execution_count": 2,
   "id": "6feb7123",
   "metadata": {},
   "outputs": [],
   "source": [
    "#Python dataset\n",
    "coffee = pd.read_csv('CoffeePress.csv')"
   ]
  },
  {
   "cell_type": "code",
   "execution_count": 4,
   "id": "36e9b2a6",
   "metadata": {},
   "outputs": [
    {
     "name": "stdout",
     "output_type": "stream",
     "text": [
      "<class 'pandas.core.frame.DataFrame'>\n",
      "RangeIndex: 1345 entries, 0 to 1344\n",
      "Data columns (total 5 columns):\n",
      " #   Column                 Non-Null Count  Dtype\n",
      "---  ------                 --------------  -----\n",
      " 0   CustomerID             1345 non-null   int64\n",
      " 1   Age                    1345 non-null   int64\n",
      " 2   Female                 1345 non-null   int64\n",
      " 3   HH_Income              1345 non-null   int64\n",
      " 4   Purchased_CoffeePress  1345 non-null   int64\n",
      "dtypes: int64(5)\n",
      "memory usage: 52.7 KB\n"
     ]
    },
    {
     "data": {
      "text/html": [
       "<div>\n",
       "<style scoped>\n",
       "    .dataframe tbody tr th:only-of-type {\n",
       "        vertical-align: middle;\n",
       "    }\n",
       "\n",
       "    .dataframe tbody tr th {\n",
       "        vertical-align: top;\n",
       "    }\n",
       "\n",
       "    .dataframe thead th {\n",
       "        text-align: right;\n",
       "    }\n",
       "</style>\n",
       "<table border=\"1\" class=\"dataframe\">\n",
       "  <thead>\n",
       "    <tr style=\"text-align: right;\">\n",
       "      <th></th>\n",
       "      <th>CustomerID</th>\n",
       "      <th>Age</th>\n",
       "      <th>Female</th>\n",
       "      <th>HH_Income</th>\n",
       "      <th>Purchased_CoffeePress</th>\n",
       "    </tr>\n",
       "  </thead>\n",
       "  <tbody>\n",
       "    <tr>\n",
       "      <th>0</th>\n",
       "      <td>1</td>\n",
       "      <td>33</td>\n",
       "      <td>0</td>\n",
       "      <td>127</td>\n",
       "      <td>0</td>\n",
       "    </tr>\n",
       "    <tr>\n",
       "      <th>1</th>\n",
       "      <td>2</td>\n",
       "      <td>45</td>\n",
       "      <td>1</td>\n",
       "      <td>117</td>\n",
       "      <td>0</td>\n",
       "    </tr>\n",
       "    <tr>\n",
       "      <th>2</th>\n",
       "      <td>3</td>\n",
       "      <td>57</td>\n",
       "      <td>0</td>\n",
       "      <td>77</td>\n",
       "      <td>0</td>\n",
       "    </tr>\n",
       "    <tr>\n",
       "      <th>3</th>\n",
       "      <td>4</td>\n",
       "      <td>32</td>\n",
       "      <td>1</td>\n",
       "      <td>134</td>\n",
       "      <td>0</td>\n",
       "    </tr>\n",
       "    <tr>\n",
       "      <th>4</th>\n",
       "      <td>5</td>\n",
       "      <td>56</td>\n",
       "      <td>0</td>\n",
       "      <td>79</td>\n",
       "      <td>0</td>\n",
       "    </tr>\n",
       "  </tbody>\n",
       "</table>\n",
       "</div>"
      ],
      "text/plain": [
       "   CustomerID  Age  Female  HH_Income  Purchased_CoffeePress\n",
       "0           1   33       0        127                      0\n",
       "1           2   45       1        117                      0\n",
       "2           3   57       0         77                      0\n",
       "3           4   32       1        134                      0\n",
       "4           5   56       0         79                      0"
      ]
     },
     "execution_count": 4,
     "metadata": {},
     "output_type": "execute_result"
    }
   ],
   "source": [
    "len(coffee)#number of records\n",
    "coffee.info()#fields\n",
    "coffee.head()"
   ]
  },
  {
   "cell_type": "code",
   "execution_count": 5,
   "id": "0d28e35c",
   "metadata": {},
   "outputs": [
    {
     "name": "stdout",
     "output_type": "stream",
     "text": [
      "Optimization terminated successfully.\n",
      "         Current function value: 0.343055\n",
      "         Iterations 7\n"
     ]
    }
   ],
   "source": [
    "import statsmodels.api as sm\n",
    "#we neeed to specify that we want to include an intercept\n",
    "coffee['intercept']=1.0 \n",
    "\n",
    "# identify the independent variables \n",
    "coffee_ind_cols=['Age','Female','HH_Income','intercept']\n",
    "\n",
    "coffee_logit = sm.Logit(coffee['Purchased_CoffeePress'],coffee[coffee_ind_cols])\n",
    "\n",
    "coffee_result=coffee_logit.fit()"
   ]
  },
  {
   "cell_type": "code",
   "execution_count": 6,
   "id": "a5302f65",
   "metadata": {},
   "outputs": [
    {
     "name": "stdout",
     "output_type": "stream",
     "text": [
      "                             Logit Regression Results                            \n",
      "=================================================================================\n",
      "Dep. Variable:     Purchased_CoffeePress   No. Observations:                 1345\n",
      "Model:                             Logit   Df Residuals:                     1341\n",
      "Method:                              MLE   Df Model:                            3\n",
      "Date:                   Thu, 20 Jan 2022   Pseudo R-squ.:                  0.3748\n",
      "Time:                           19:33:53   Log-Likelihood:                -461.41\n",
      "converged:                          True   LL-Null:                       -737.96\n",
      "Covariance Type:               nonrobust   LLR p-value:                1.479e-119\n",
      "==============================================================================\n",
      "                 coef    std err          z      P>|z|      [0.025      0.975]\n",
      "------------------------------------------------------------------------------\n",
      "Age           -0.0507      0.007     -6.959      0.000      -0.065      -0.036\n",
      "Female         0.2722      0.169      1.615      0.106      -0.058       0.603\n",
      "HH_Income      0.0325      0.002     15.577      0.000       0.028       0.037\n",
      "intercept     -4.7037      0.434    -10.849      0.000      -5.554      -3.854\n",
      "==============================================================================\n"
     ]
    }
   ],
   "source": [
    "print(coffee_result.summary())"
   ]
  },
  {
   "cell_type": "code",
   "execution_count": 7,
   "id": "0e963369",
   "metadata": {},
   "outputs": [
    {
     "name": "stdout",
     "output_type": "stream",
     "text": [
      "Coefficeients\n",
      "Age         -0.050692\n",
      "Female       0.272193\n",
      "HH_Income    0.032518\n",
      "intercept   -4.703715\n",
      "dtype: float64\n",
      "\n",
      "p-Values\n",
      "Age          3.425918e-12\n",
      "Female       1.062927e-01\n",
      "HH_Income    1.048388e-54\n",
      "intercept    2.026288e-27\n",
      "dtype: float64\n",
      "\n",
      "Dependent variables\n",
      "Purchased_CoffeePress\n"
     ]
    }
   ],
   "source": [
    "print(\"Coefficeients\")\n",
    "print(coffee_result.params)\n",
    "print()\n",
    "print(\"p-Values\")\n",
    "print(coffee_result.pvalues)\n",
    "print()\n",
    "print(\"Dependent variables\")\n",
    "print(coffee_result.model.endog_names)"
   ]
  },
  {
   "cell_type": "code",
   "execution_count": 8,
   "id": "9591372b",
   "metadata": {},
   "outputs": [
    {
     "name": "stdout",
     "output_type": "stream",
     "text": [
      "Exp of Coefficeients\n",
      "Age\n",
      "0.950571653439622\n",
      "Female\n",
      "1.3128400024059963\n",
      "HH_Income\n",
      "1.0330523382639374\n"
     ]
    }
   ],
   "source": [
    "print(\"Exp of Coefficeients\")\n",
    "print(\"Age\")\n",
    "print(math.exp(coffee_result.params['Age']))\n",
    "print(\"Female\")\n",
    "print(math.exp(coffee_result.params['Female']))\n",
    "print(\"HH_Income\")\n",
    "print(math.exp(coffee_result.params['HH_Income']))"
   ]
  },
  {
   "cell_type": "code",
   "execution_count": 9,
   "id": "2890a5f8",
   "metadata": {},
   "outputs": [],
   "source": [
    "#prediction\n",
    "coffee['predicted_prob'] = coffee_result.predict()\n",
    "#predicted class\n",
    "coffee['predictions_nominal'] = [ 0 if x < 0.5 else 1 for x in coffee['predicted_prob']]"
   ]
  },
  {
   "cell_type": "code",
   "execution_count": 10,
   "id": "946f071d",
   "metadata": {},
   "outputs": [
    {
     "name": "stdout",
     "output_type": "stream",
     "text": [
      "[[992  33]\n",
      " [141 179]]\n"
     ]
    }
   ],
   "source": [
    "#confusion matrix\n",
    "print(confusion_matrix(coffee[\"Purchased_CoffeePress\"],coffee['predictions_nominal']))"
   ]
  },
  {
   "cell_type": "code",
   "execution_count": 11,
   "id": "7adda11c",
   "metadata": {},
   "outputs": [
    {
     "data": {
      "text/html": [
       "<div>\n",
       "<style scoped>\n",
       "    .dataframe tbody tr th:only-of-type {\n",
       "        vertical-align: middle;\n",
       "    }\n",
       "\n",
       "    .dataframe tbody tr th {\n",
       "        vertical-align: top;\n",
       "    }\n",
       "\n",
       "    .dataframe thead th {\n",
       "        text-align: right;\n",
       "    }\n",
       "</style>\n",
       "<table border=\"1\" class=\"dataframe\">\n",
       "  <thead>\n",
       "    <tr style=\"text-align: right;\">\n",
       "      <th>predictions_nominal</th>\n",
       "      <th>0</th>\n",
       "      <th>1</th>\n",
       "    </tr>\n",
       "    <tr>\n",
       "      <th>Purchased_CoffeePress</th>\n",
       "      <th></th>\n",
       "      <th></th>\n",
       "    </tr>\n",
       "  </thead>\n",
       "  <tbody>\n",
       "    <tr>\n",
       "      <th>0</th>\n",
       "      <td>992</td>\n",
       "      <td>33</td>\n",
       "    </tr>\n",
       "    <tr>\n",
       "      <th>1</th>\n",
       "      <td>141</td>\n",
       "      <td>179</td>\n",
       "    </tr>\n",
       "  </tbody>\n",
       "</table>\n",
       "</div>"
      ],
      "text/plain": [
       "predictions_nominal      0    1\n",
       "Purchased_CoffeePress          \n",
       "0                      992   33\n",
       "1                      141  179"
      ]
     },
     "execution_count": 11,
     "metadata": {},
     "output_type": "execute_result"
    }
   ],
   "source": [
    "pd.crosstab(coffee['Purchased_CoffeePress'],coffee['predictions_nominal'])"
   ]
  },
  {
   "cell_type": "code",
   "execution_count": 12,
   "id": "e078c422",
   "metadata": {},
   "outputs": [
    {
     "data": {
      "text/plain": [
       "0.8706319702602231"
      ]
     },
     "execution_count": 12,
     "metadata": {},
     "output_type": "execute_result"
    }
   ],
   "source": [
    "(179+992)/(992+33+141+179)"
   ]
  },
  {
   "cell_type": "code",
   "execution_count": 13,
   "id": "5656db0e",
   "metadata": {},
   "outputs": [
    {
     "data": {
      "text/plain": [
       "0.559375"
      ]
     },
     "execution_count": 13,
     "metadata": {},
     "output_type": "execute_result"
    }
   ],
   "source": [
    "(179)/(141+179)"
   ]
  },
  {
   "cell_type": "code",
   "execution_count": 14,
   "id": "5c47fc82",
   "metadata": {},
   "outputs": [],
   "source": [
    "#for ROC curve and AUC\n",
    "from sklearn.metrics import roc_curve, auc"
   ]
  },
  {
   "cell_type": "code",
   "execution_count": 15,
   "id": "659a99e7",
   "metadata": {},
   "outputs": [
    {
     "name": "stdout",
     "output_type": "stream",
     "text": [
      "Area under the ROC curve : 0.863137\n"
     ]
    }
   ],
   "source": [
    "fpr, tpr, thresholds =roc_curve(coffee['Purchased_CoffeePress'], coffee['predicted_prob'])\n",
    "roc_auc = auc(fpr, tpr)\n",
    "print(\"Area under the ROC curve : %f\" % roc_auc)"
   ]
  },
  {
   "cell_type": "code",
   "execution_count": 16,
   "id": "8abb0c10",
   "metadata": {},
   "outputs": [
    {
     "data": {
      "image/png": "[encoded data removed]",
      "text/plain": [
       "<Figure size 432x288 with 1 Axes>"
      ]
     },
     "metadata": {
      "needs_background": "light"
     },
     "output_type": "display_data"
    }
   ],
   "source": [
    "import matplotlib.pyplot as plt\n",
    "\n",
    "plt.title('Receiver Operating Characteristic')\n",
    "plt.plot(fpr, tpr, 'b', label = 'AUC = %0.2f' % roc_auc)\n",
    "plt.legend(loc = 'lower right')\n",
    "plt.plot([0, 1], [0, 1],'r--')\n",
    "plt.xlim([0, 1])\n",
    "plt.ylim([0, 1])\n",
    "plt.ylabel('True Positive Rate')\n",
    "plt.xlabel('False Positive Rate')\n",
    "plt.show()"
   ]
  },
  {
   "cell_type": "code",
   "execution_count": null,
   "id": "3a27946e",
   "metadata": {},
   "outputs": [],
   "source": []
  }
 ],
 "metadata": {
  "kernelspec": {
   "display_name": "Python 3 (ipykernel)",
   "language": "python",
   "name": "python3"
  },
  "language_info": {
   "codemirror_mode": {
    "name": "ipython",
    "version": 3
   },
   "file_extension": ".py",
   "mimetype": "text/x-python",
   "name": "python",
   "nbconvert_exporter": "python",
   "pygments_lexer": "ipython3",
   "version": "3.9.7"
  }
 },
 "nbformat": 4,
 "nbformat_minor": 5
}
