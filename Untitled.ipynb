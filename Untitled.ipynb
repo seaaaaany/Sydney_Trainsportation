{
 "cells": [
  {
   "cell_type": "code",
   "execution_count": 1,
   "id": "a1df3b9a",
   "metadata": {},
   "outputs": [],
   "source": [
    "#RERUN THIS IF YOUR CONNECTION GETS RESET\n",
    "\n",
    "#import pandas:\n",
    "import pandas as pd\n",
    "#import numpy:\n",
    "import numpy as np\n",
    "#matplotlib\n",
    "import matplotlib.pyplot as plt\n",
    "%matplotlib inline\n",
    "\n",
    "#several others\n",
    "import scipy\n",
    "import sklearn\n",
    "import os as os\n",
    "\n",
    "#let's test out the relationships\n",
    "import seaborn as sn\n",
    "import matplotlib.pyplot as plt\n",
    "\n",
    "#regression\n",
    "from statsmodels.api import OLS\n",
    "import statsmodels.formula.api as smf\n",
    "\n",
    "#load some libraries\n",
    "from sklearn.preprocessing import scale\n",
    "from sklearn.decomposition import PCA\n",
    "from sklearn.cluster import KMeans\n",
    "\n",
    "from scipy.cluster import hierarchy\n",
    "\n",
    "#take the exponential\n",
    "import math\n",
    "\n",
    "#import regression libraries\n",
    "from sklearn.model_selection import train_test_split \n",
    "from sklearn.linear_model import LogisticRegression\n",
    "from sklearn.metrics import classification_report, confusion_matrix\n",
    "import statsmodels.api as sm"
   ]
  },
  {
   "cell_type": "code",
   "execution_count": null,
   "id": "95a8ee35",
   "metadata": {},
   "outputs": [],
   "source": []
  }
 ],
 "metadata": {
  "kernelspec": {
   "display_name": "Python 3 (ipykernel)",
   "language": "python",
   "name": "python3"
  },
  "language_info": {
   "codemirror_mode": {
    "name": "ipython",
    "version": 3
   },
   "file_extension": ".py",
   "mimetype": "text/x-python",
   "name": "python",
   "nbconvert_exporter": "python",
   "pygments_lexer": "ipython3",
   "version": "3.9.7"
  }
 },
 "nbformat": 4,
 "nbformat_minor": 5
}
