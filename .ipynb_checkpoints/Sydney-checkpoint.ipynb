{
 "cells": [
  {
   "cell_type": "code",
   "execution_count": 1,
   "id": "3d8bd5db",
   "metadata": {},
   "outputs": [],
   "source": [
    "#RERUN THIS IF YOUR CONNECTION GETS RESET\n",
    "\n",
    "#import pandas:\n",
    "import pandas as pd\n",
    "#import numpy:\n",
    "import numpy as np\n",
    "#matplotlib\n",
    "import matplotlib.pyplot as plt\n",
    "%matplotlib inline\n",
    "\n",
    "#several others\n",
    "import scipy\n",
    "import sklearn\n",
    "import os as os\n",
    "\n",
    "#let's test out the relationships\n",
    "import seaborn as sn\n",
    "import matplotlib.pyplot as plt\n",
    "\n",
    "#regression\n",
    "from statsmodels.api import OLS\n",
    "import statsmodels.formula.api as smf\n",
    "\n",
    "#load some libraries\n",
    "from sklearn.preprocessing import scale\n",
    "from sklearn.decomposition import PCA\n",
    "from sklearn.cluster import KMeans\n",
    "\n",
    "from scipy.cluster import hierarchy\n",
    "\n",
    "#take the exponential\n",
    "import math\n",
    "\n",
    "#import regression libraries\n",
    "from sklearn.model_selection import train_test_split \n",
    "from sklearn.linear_model import LogisticRegression\n",
    "from sklearn.metrics import classification_report, confusion_matrix\n",
    "import statsmodels.api as sm"
   ]
  },
  {
   "cell_type": "markdown",
   "id": "3029c3ef",
   "metadata": {},
   "source": [
    "### Choice Models and Conjoint Analysis"
   ]
  },
  {
   "cell_type": "markdown",
   "id": "38305a62",
   "metadata": {},
   "source": [
    "### Logistic Regression and Choice Models"
   ]
  },
  {
   "cell_type": "code",
   "execution_count": 3,
   "id": "d0fbad7c",
   "metadata": {},
   "outputs": [],
   "source": [
    "#Python dataset\n",
    "sydney = pd.read_csv('sydney.csv');"
   ]
  },
  {
   "cell_type": "code",
   "execution_count": 4,
   "id": "1788597a",
   "metadata": {},
   "outputs": [
    {
     "name": "stdout",
     "output_type": "stream",
     "text": [
      "<class 'pandas.core.frame.DataFrame'>\n",
      "RangeIndex: 333 entries, 0 to 332\n",
      "Data columns (total 5 columns):\n",
      " #   Column     Non-Null Count  Dtype \n",
      "---  ------     --------------  ----- \n",
      " 0   cartime    333 non-null    int64 \n",
      " 1   carcost    333 non-null    int64 \n",
      " 2   traintime  333 non-null    int64 \n",
      " 3   traincost  333 non-null    int64 \n",
      " 4   choice     333 non-null    object\n",
      "dtypes: int64(4), object(1)\n",
      "memory usage: 13.1+ KB\n"
     ]
    },
    {
     "data": {
      "text/html": [
       "<div>\n",
       "<style scoped>\n",
       "    .dataframe tbody tr th:only-of-type {\n",
       "        vertical-align: middle;\n",
       "    }\n",
       "\n",
       "    .dataframe tbody tr th {\n",
       "        vertical-align: top;\n",
       "    }\n",
       "\n",
       "    .dataframe thead th {\n",
       "        text-align: right;\n",
       "    }\n",
       "</style>\n",
       "<table border=\"1\" class=\"dataframe\">\n",
       "  <thead>\n",
       "    <tr style=\"text-align: right;\">\n",
       "      <th></th>\n",
       "      <th>cartime</th>\n",
       "      <th>carcost</th>\n",
       "      <th>traintime</th>\n",
       "      <th>traincost</th>\n",
       "      <th>choice</th>\n",
       "    </tr>\n",
       "  </thead>\n",
       "  <tbody>\n",
       "    <tr>\n",
       "      <th>0</th>\n",
       "      <td>70</td>\n",
       "      <td>50</td>\n",
       "      <td>64</td>\n",
       "      <td>39</td>\n",
       "      <td>TRAIN</td>\n",
       "    </tr>\n",
       "    <tr>\n",
       "      <th>1</th>\n",
       "      <td>50</td>\n",
       "      <td>230</td>\n",
       "      <td>60</td>\n",
       "      <td>32</td>\n",
       "      <td>TRAIN</td>\n",
       "    </tr>\n",
       "    <tr>\n",
       "      <th>2</th>\n",
       "      <td>50</td>\n",
       "      <td>70</td>\n",
       "      <td>58</td>\n",
       "      <td>40</td>\n",
       "      <td>CAR</td>\n",
       "    </tr>\n",
       "    <tr>\n",
       "      <th>3</th>\n",
       "      <td>60</td>\n",
       "      <td>108</td>\n",
       "      <td>93</td>\n",
       "      <td>62</td>\n",
       "      <td>CAR</td>\n",
       "    </tr>\n",
       "    <tr>\n",
       "      <th>4</th>\n",
       "      <td>70</td>\n",
       "      <td>60</td>\n",
       "      <td>68</td>\n",
       "      <td>26</td>\n",
       "      <td>TRAIN</td>\n",
       "    </tr>\n",
       "  </tbody>\n",
       "</table>\n",
       "</div>"
      ],
      "text/plain": [
       "   cartime  carcost  traintime  traincost choice\n",
       "0       70       50         64         39  TRAIN\n",
       "1       50      230         60         32  TRAIN\n",
       "2       50       70         58         40    CAR\n",
       "3       60      108         93         62    CAR\n",
       "4       70       60         68         26  TRAIN"
      ]
     },
     "execution_count": 4,
     "metadata": {},
     "output_type": "execute_result"
    }
   ],
   "source": [
    "len(sydney)#number of records\n",
    "sydney.info()#fields\n",
    "sydney.head()"
   ]
  },
  {
   "cell_type": "code",
   "execution_count": 5,
   "id": "852a5a82",
   "metadata": {},
   "outputs": [
    {
     "data": {
      "text/html": [
       "<div>\n",
       "<style scoped>\n",
       "    .dataframe tbody tr th:only-of-type {\n",
       "        vertical-align: middle;\n",
       "    }\n",
       "\n",
       "    .dataframe tbody tr th {\n",
       "        vertical-align: top;\n",
       "    }\n",
       "\n",
       "    .dataframe thead th {\n",
       "        text-align: right;\n",
       "    }\n",
       "</style>\n",
       "<table border=\"1\" class=\"dataframe\">\n",
       "  <thead>\n",
       "    <tr style=\"text-align: right;\">\n",
       "      <th></th>\n",
       "      <th>cartime</th>\n",
       "      <th>carcost</th>\n",
       "      <th>traintime</th>\n",
       "      <th>traincost</th>\n",
       "    </tr>\n",
       "  </thead>\n",
       "  <tbody>\n",
       "    <tr>\n",
       "      <th>count</th>\n",
       "      <td>333.000000</td>\n",
       "      <td>333.000000</td>\n",
       "      <td>333.000000</td>\n",
       "      <td>333.000000</td>\n",
       "    </tr>\n",
       "    <tr>\n",
       "      <th>mean</th>\n",
       "      <td>45.465465</td>\n",
       "      <td>57.753754</td>\n",
       "      <td>66.321321</td>\n",
       "      <td>38.219219</td>\n",
       "    </tr>\n",
       "    <tr>\n",
       "      <th>std</th>\n",
       "      <td>18.308670</td>\n",
       "      <td>33.551875</td>\n",
       "      <td>19.296561</td>\n",
       "      <td>14.497507</td>\n",
       "    </tr>\n",
       "    <tr>\n",
       "      <th>min</th>\n",
       "      <td>10.000000</td>\n",
       "      <td>8.000000</td>\n",
       "      <td>3.000000</td>\n",
       "      <td>7.000000</td>\n",
       "    </tr>\n",
       "    <tr>\n",
       "      <th>25%</th>\n",
       "      <td>30.000000</td>\n",
       "      <td>32.000000</td>\n",
       "      <td>56.000000</td>\n",
       "      <td>28.000000</td>\n",
       "    </tr>\n",
       "    <tr>\n",
       "      <th>50%</th>\n",
       "      <td>45.000000</td>\n",
       "      <td>50.000000</td>\n",
       "      <td>67.000000</td>\n",
       "      <td>36.000000</td>\n",
       "    </tr>\n",
       "    <tr>\n",
       "      <th>75%</th>\n",
       "      <td>60.000000</td>\n",
       "      <td>70.000000</td>\n",
       "      <td>76.000000</td>\n",
       "      <td>46.000000</td>\n",
       "    </tr>\n",
       "    <tr>\n",
       "      <th>max</th>\n",
       "      <td>95.000000</td>\n",
       "      <td>230.000000</td>\n",
       "      <td>145.000000</td>\n",
       "      <td>97.000000</td>\n",
       "    </tr>\n",
       "  </tbody>\n",
       "</table>\n",
       "</div>"
      ],
      "text/plain": [
       "          cartime     carcost   traintime   traincost\n",
       "count  333.000000  333.000000  333.000000  333.000000\n",
       "mean    45.465465   57.753754   66.321321   38.219219\n",
       "std     18.308670   33.551875   19.296561   14.497507\n",
       "min     10.000000    8.000000    3.000000    7.000000\n",
       "25%     30.000000   32.000000   56.000000   28.000000\n",
       "50%     45.000000   50.000000   67.000000   36.000000\n",
       "75%     60.000000   70.000000   76.000000   46.000000\n",
       "max     95.000000  230.000000  145.000000   97.000000"
      ]
     },
     "execution_count": 5,
     "metadata": {},
     "output_type": "execute_result"
    }
   ],
   "source": [
    "sydney.describe()"
   ]
  },
  {
   "cell_type": "code",
   "execution_count": 6,
   "id": "e7656791",
   "metadata": {},
   "outputs": [],
   "source": [
    "#create dummy variable\n",
    "sydney = pd.get_dummies(sydney, columns=['choice'])"
   ]
  },
  {
   "cell_type": "code",
   "execution_count": 8,
   "id": "a6e9baef",
   "metadata": {},
   "outputs": [
    {
     "data": {
      "text/html": [
       "<div>\n",
       "<style scoped>\n",
       "    .dataframe tbody tr th:only-of-type {\n",
       "        vertical-align: middle;\n",
       "    }\n",
       "\n",
       "    .dataframe tbody tr th {\n",
       "        vertical-align: top;\n",
       "    }\n",
       "\n",
       "    .dataframe thead th {\n",
       "        text-align: right;\n",
       "    }\n",
       "</style>\n",
       "<table border=\"1\" class=\"dataframe\">\n",
       "  <thead>\n",
       "    <tr style=\"text-align: right;\">\n",
       "      <th></th>\n",
       "      <th>cartime</th>\n",
       "      <th>carcost</th>\n",
       "      <th>traintime</th>\n",
       "      <th>traincost</th>\n",
       "      <th>choice_CAR</th>\n",
       "      <th>choice_TRAIN</th>\n",
       "    </tr>\n",
       "  </thead>\n",
       "  <tbody>\n",
       "    <tr>\n",
       "      <th>0</th>\n",
       "      <td>70</td>\n",
       "      <td>50</td>\n",
       "      <td>64</td>\n",
       "      <td>39</td>\n",
       "      <td>0</td>\n",
       "      <td>1</td>\n",
       "    </tr>\n",
       "    <tr>\n",
       "      <th>1</th>\n",
       "      <td>50</td>\n",
       "      <td>230</td>\n",
       "      <td>60</td>\n",
       "      <td>32</td>\n",
       "      <td>0</td>\n",
       "      <td>1</td>\n",
       "    </tr>\n",
       "    <tr>\n",
       "      <th>2</th>\n",
       "      <td>50</td>\n",
       "      <td>70</td>\n",
       "      <td>58</td>\n",
       "      <td>40</td>\n",
       "      <td>1</td>\n",
       "      <td>0</td>\n",
       "    </tr>\n",
       "    <tr>\n",
       "      <th>3</th>\n",
       "      <td>60</td>\n",
       "      <td>108</td>\n",
       "      <td>93</td>\n",
       "      <td>62</td>\n",
       "      <td>1</td>\n",
       "      <td>0</td>\n",
       "    </tr>\n",
       "    <tr>\n",
       "      <th>4</th>\n",
       "      <td>70</td>\n",
       "      <td>60</td>\n",
       "      <td>68</td>\n",
       "      <td>26</td>\n",
       "      <td>0</td>\n",
       "      <td>1</td>\n",
       "    </tr>\n",
       "    <tr>\n",
       "      <th>5</th>\n",
       "      <td>20</td>\n",
       "      <td>32</td>\n",
       "      <td>72</td>\n",
       "      <td>65</td>\n",
       "      <td>1</td>\n",
       "      <td>0</td>\n",
       "    </tr>\n",
       "    <tr>\n",
       "      <th>6</th>\n",
       "      <td>40</td>\n",
       "      <td>30</td>\n",
       "      <td>60</td>\n",
       "      <td>37</td>\n",
       "      <td>0</td>\n",
       "      <td>1</td>\n",
       "    </tr>\n",
       "    <tr>\n",
       "      <th>7</th>\n",
       "      <td>15</td>\n",
       "      <td>8</td>\n",
       "      <td>22</td>\n",
       "      <td>20</td>\n",
       "      <td>1</td>\n",
       "      <td>0</td>\n",
       "    </tr>\n",
       "    <tr>\n",
       "      <th>8</th>\n",
       "      <td>60</td>\n",
       "      <td>60</td>\n",
       "      <td>83</td>\n",
       "      <td>31</td>\n",
       "      <td>0</td>\n",
       "      <td>1</td>\n",
       "    </tr>\n",
       "    <tr>\n",
       "      <th>9</th>\n",
       "      <td>29</td>\n",
       "      <td>20</td>\n",
       "      <td>40</td>\n",
       "      <td>17</td>\n",
       "      <td>1</td>\n",
       "      <td>0</td>\n",
       "    </tr>\n",
       "  </tbody>\n",
       "</table>\n",
       "</div>"
      ],
      "text/plain": [
       "   cartime  carcost  traintime  traincost  choice_CAR  choice_TRAIN\n",
       "0       70       50         64         39           0             1\n",
       "1       50      230         60         32           0             1\n",
       "2       50       70         58         40           1             0\n",
       "3       60      108         93         62           1             0\n",
       "4       70       60         68         26           0             1\n",
       "5       20       32         72         65           1             0\n",
       "6       40       30         60         37           0             1\n",
       "7       15        8         22         20           1             0\n",
       "8       60       60         83         31           0             1\n",
       "9       29       20         40         17           1             0"
      ]
     },
     "execution_count": 8,
     "metadata": {},
     "output_type": "execute_result"
    }
   ],
   "source": [
    "sydney.head(10)"
   ]
  },
  {
   "cell_type": "code",
   "execution_count": 9,
   "id": "77062b0a",
   "metadata": {},
   "outputs": [],
   "source": [
    "train_model = LogisticRegression(solver='liblinear', random_state=0)"
   ]
  },
  {
   "cell_type": "code",
   "execution_count": 10,
   "id": "52f96a71",
   "metadata": {},
   "outputs": [
    {
     "name": "stdout",
     "output_type": "stream",
     "text": [
      "Optimization terminated successfully.\n",
      "         Current function value: inf\n",
      "         Iterations 7\n"
     ]
    },
    {
     "name": "stderr",
     "output_type": "stream",
     "text": [
      "/opt/anaconda3/lib/python3.9/site-packages/statsmodels/discrete/discrete_model.py:1810: RuntimeWarning: overflow encountered in exp\n",
      "  return 1/(1+np.exp(-X))\n",
      "/opt/anaconda3/lib/python3.9/site-packages/statsmodels/discrete/discrete_model.py:1863: RuntimeWarning: divide by zero encountered in log\n",
      "  return np.sum(np.log(self.cdf(q*np.dot(X,params))))\n"
     ]
    }
   ],
   "source": [
    "import statsmodels.api as sm\n",
    "#we neeed to specify that we want to include an intercept\n",
    "sydney['intercept']=1.0 \n",
    "\n",
    "# identify the independent variables \n",
    "train_ind_cols=['cartime','carcost','traintime','traincost','intercept']\n",
    "\n",
    "train_logit = sm.Logit(sydney['choice_TRAIN'],sydney[train_ind_cols])\n",
    "\n",
    "train_result=train_logit.fit()"
   ]
  },
  {
   "cell_type": "code",
   "execution_count": 11,
   "id": "224912ff",
   "metadata": {},
   "outputs": [
    {
     "name": "stdout",
     "output_type": "stream",
     "text": [
      "                           Logit Regression Results                           \n",
      "==============================================================================\n",
      "Dep. Variable:           choice_TRAIN   No. Observations:                  333\n",
      "Model:                          Logit   Df Residuals:                      328\n",
      "Method:                           MLE   Df Model:                            4\n",
      "Date:                Thu, 20 Jan 2022   Pseudo R-squ.:                     inf\n",
      "Time:                        19:00:14   Log-Likelihood:                   -inf\n",
      "converged:                       True   LL-Null:                        0.0000\n",
      "Covariance Type:            nonrobust   LLR p-value:                     1.000\n",
      "==============================================================================\n",
      "                 coef    std err          z      P>|z|      [0.025      0.975]\n",
      "------------------------------------------------------------------------------\n",
      "cartime        0.0565      0.011      5.179      0.000       0.035       0.078\n",
      "carcost        0.0298      0.007      4.283      0.000       0.016       0.043\n",
      "traintime      0.0149      0.009      1.573      0.116      -0.004       0.034\n",
      "traincost     -0.1113      0.017     -6.736      0.000      -0.144      -0.079\n",
      "intercept     -1.4440      0.585     -2.468      0.014      -2.591      -0.297\n",
      "==============================================================================\n"
     ]
    },
    {
     "name": "stderr",
     "output_type": "stream",
     "text": [
      "/opt/anaconda3/lib/python3.9/site-packages/statsmodels/base/model.py:547: HessianInversionWarning: Inverting hessian failed, no bse or cov_params available\n",
      "  warnings.warn('Inverting hessian failed, no bse or cov_params '\n",
      "/opt/anaconda3/lib/python3.9/site-packages/statsmodels/base/model.py:547: HessianInversionWarning: Inverting hessian failed, no bse or cov_params available\n",
      "  warnings.warn('Inverting hessian failed, no bse or cov_params '\n"
     ]
    }
   ],
   "source": [
    "print(train_result.summary())"
   ]
  },
  {
   "cell_type": "code",
   "execution_count": 12,
   "id": "f26e0f14",
   "metadata": {},
   "outputs": [
    {
     "name": "stdout",
     "output_type": "stream",
     "text": [
      "                 Generalized Linear Model Regression Results                  \n",
      "==============================================================================\n",
      "Dep. Variable:           choice_TRAIN   No. Observations:                  333\n",
      "Model:                            GLM   Df Residuals:                      328\n",
      "Model Family:                Binomial   Df Model:                            4\n",
      "Link Function:                  logit   Scale:                          1.0000\n",
      "Method:                          IRLS   Log-Likelihood:                -136.32\n",
      "Date:                Thu, 20 Jan 2022   Deviance:                       272.63\n",
      "Time:                        19:00:52   Pearson chi2:                     326.\n",
      "No. Iterations:                     6                                         \n",
      "Covariance Type:            nonrobust                                         \n",
      "==============================================================================\n",
      "                 coef    std err          z      P>|z|      [0.025      0.975]\n",
      "------------------------------------------------------------------------------\n",
      "const         -1.4440      0.585     -2.468      0.014      -2.591      -0.297\n",
      "x1             0.0565      0.011      5.179      0.000       0.035       0.078\n",
      "x2             0.0298      0.007      4.283      0.000       0.016       0.043\n",
      "x3             0.0149      0.009      1.573      0.116      -0.004       0.034\n",
      "x4            -0.1113      0.017     -6.736      0.000      -0.144      -0.079\n",
      "==============================================================================\n"
     ]
    }
   ],
   "source": [
    "#alternative approach to run a logistic regression\n",
    "y = sydney['choice_TRAIN']\n",
    "cartime = sydney['cartime']\n",
    "carcost = sydney['carcost']\n",
    "traintime = sydney['traintime']\n",
    "traincost = sydney['traincost']\n",
    "\n",
    "# define design matrix for the linear predictor\n",
    "Intercept = np.array([1] * len(y))\n",
    "x = np.array([Intercept, cartime, carcost, traintime, traincost]).T\n",
    "\n",
    "# generalized linear model for logistic regression (notice we are using GLM here)\n",
    "logistic_regression = sm.GLM(y, x, family=sm.families.Binomial())\n",
    "sydney_fit = logistic_regression.fit()\n",
    "print(sydney_fit.summary())"
   ]
  },
  {
   "cell_type": "code",
   "execution_count": 13,
   "id": "23684506",
   "metadata": {},
   "outputs": [
    {
     "name": "stdout",
     "output_type": "stream",
     "text": [
      "Exp of Coefficeients\n",
      "traincost\n",
      "0.8946763754633165\n"
     ]
    }
   ],
   "source": [
    "print(\"Exp of Coefficeients\")\n",
    "print(\"traincost\")\n",
    "print(math.exp(train_result.params['traincost']))"
   ]
  },
  {
   "cell_type": "code",
   "execution_count": 14,
   "id": "4f36ba06",
   "metadata": {},
   "outputs": [],
   "source": [
    "#prediction\n",
    "sydney['predicted_prob'] = train_result.predict()\n",
    "#predicted class\n",
    "sydney['predictions_nominal'] = [ 0 if x < 0.5 else 1 for x in sydney['predicted_prob']]"
   ]
  },
  {
   "cell_type": "code",
   "execution_count": 15,
   "id": "ede93fcd",
   "metadata": {},
   "outputs": [
    {
     "data": {
      "text/plain": [
       "148"
      ]
     },
     "execution_count": 15,
     "metadata": {},
     "output_type": "execute_result"
    }
   ],
   "source": [
    "sum(sydney['predictions_nominal'])"
   ]
  },
  {
   "cell_type": "code",
   "execution_count": 16,
   "id": "c3cea3da",
   "metadata": {
    "scrolled": true
   },
   "outputs": [
    {
     "name": "stdout",
     "output_type": "stream",
     "text": [
      "[[155  28]\n",
      " [ 30 120]]\n"
     ]
    }
   ],
   "source": [
    "#confusion matrix\n",
    "print(confusion_matrix(sydney[\"choice_TRAIN\"],sydney['predictions_nominal']))"
   ]
  },
  {
   "cell_type": "code",
   "execution_count": 21,
   "id": "ddc15109",
   "metadata": {},
   "outputs": [
    {
     "data": {
      "text/plain": [
       "0.8"
      ]
     },
     "execution_count": 21,
     "metadata": {},
     "output_type": "execute_result"
    }
   ],
   "source": [
    "120/150"
   ]
  },
  {
   "cell_type": "code",
   "execution_count": 17,
   "id": "883bda20",
   "metadata": {},
   "outputs": [
    {
     "data": {
      "text/html": [
       "<div>\n",
       "<style scoped>\n",
       "    .dataframe tbody tr th:only-of-type {\n",
       "        vertical-align: middle;\n",
       "    }\n",
       "\n",
       "    .dataframe tbody tr th {\n",
       "        vertical-align: top;\n",
       "    }\n",
       "\n",
       "    .dataframe thead th {\n",
       "        text-align: right;\n",
       "    }\n",
       "</style>\n",
       "<table border=\"1\" class=\"dataframe\">\n",
       "  <thead>\n",
       "    <tr style=\"text-align: right;\">\n",
       "      <th>predictions_nominal</th>\n",
       "      <th>0</th>\n",
       "      <th>1</th>\n",
       "    </tr>\n",
       "    <tr>\n",
       "      <th>choice_TRAIN</th>\n",
       "      <th></th>\n",
       "      <th></th>\n",
       "    </tr>\n",
       "  </thead>\n",
       "  <tbody>\n",
       "    <tr>\n",
       "      <th>0</th>\n",
       "      <td>155</td>\n",
       "      <td>28</td>\n",
       "    </tr>\n",
       "    <tr>\n",
       "      <th>1</th>\n",
       "      <td>30</td>\n",
       "      <td>120</td>\n",
       "    </tr>\n",
       "  </tbody>\n",
       "</table>\n",
       "</div>"
      ],
      "text/plain": [
       "predictions_nominal    0    1\n",
       "choice_TRAIN                 \n",
       "0                    155   28\n",
       "1                     30  120"
      ]
     },
     "execution_count": 17,
     "metadata": {},
     "output_type": "execute_result"
    }
   ],
   "source": [
    "pd.crosstab(sydney['choice_TRAIN'],sydney['predictions_nominal'])"
   ]
  },
  {
   "cell_type": "code",
   "execution_count": 18,
   "id": "1f29760b",
   "metadata": {
    "scrolled": true
   },
   "outputs": [
    {
     "data": {
      "text/plain": [
       "Text(0, 0.5, 'Probabilty of Using Train')"
      ]
     },
     "execution_count": 18,
     "metadata": {},
     "output_type": "execute_result"
    },
    {
     "data": {
      "image/png": "[encoded data removed]",
      "text/plain": [
       "<Figure size 576x432 with 1 Axes>"
      ]
     },
     "metadata": {
      "needs_background": "light"
     },
     "output_type": "display_data"
    }
   ],
   "source": [
    "#create plot\n",
    "plt.figure(figsize=(8, 6))\n",
    "plt.scatter(sydney['traincost'], \n",
    "            sydney['predicted_prob'])\n",
    "plt.title(\"Cost vs. Probability of Using Train\")\n",
    "plt.xlabel(\"Cost\")\n",
    "plt.ylabel(\"Probabilty of Using Train\")"
   ]
  },
  {
   "cell_type": "code",
   "execution_count": 24,
   "id": "e8915a10",
   "metadata": {},
   "outputs": [
    {
     "ename": "AttributeError",
     "evalue": "module 'pandas' has no attribute 'download'",
     "output_type": "error",
     "traceback": [
      "\u001b[0;31m---------------------------------------------------------------------------\u001b[0m",
      "\u001b[0;31mAttributeError\u001b[0m                            Traceback (most recent call last)",
      "\u001b[0;32m/var/folders/x0/07k6wcjx1fx9323w88_664zm0000gn/T/ipykernel_48585/604283367.py\u001b[0m in \u001b[0;36m<module>\u001b[0;34m\u001b[0m\n\u001b[1;32m      3\u001b[0m     \u001b[0mfh\u001b[0m\u001b[0;34m.\u001b[0m\u001b[0mwrite\u001b[0m\u001b[0;34m(\u001b[0m\u001b[0msydney_fit\u001b[0m\u001b[0;34m.\u001b[0m\u001b[0msummary\u001b[0m\u001b[0;34m(\u001b[0m\u001b[0;34m)\u001b[0m\u001b[0;34m.\u001b[0m\u001b[0mas_csv\u001b[0m\u001b[0;34m(\u001b[0m\u001b[0;34m)\u001b[0m\u001b[0;34m)\u001b[0m\u001b[0;34m\u001b[0m\u001b[0;34m\u001b[0m\u001b[0m\n\u001b[1;32m      4\u001b[0m \u001b[0;34m\u001b[0m\u001b[0m\n\u001b[0;32m----> 5\u001b[0;31m \u001b[0mpd\u001b[0m\u001b[0;34m.\u001b[0m\u001b[0mdownload\u001b[0m\u001b[0;34m(\u001b[0m\u001b[0;34m'sydney_logistic_regresion_summary.csv'\u001b[0m\u001b[0;34m)\u001b[0m\u001b[0;34m\u001b[0m\u001b[0;34m\u001b[0m\u001b[0m\n\u001b[0m",
      "\u001b[0;32m/opt/anaconda3/lib/python3.9/site-packages/pandas/__init__.py\u001b[0m in \u001b[0;36m__getattr__\u001b[0;34m(name)\u001b[0m\n\u001b[1;32m    242\u001b[0m         \u001b[0;32mreturn\u001b[0m \u001b[0m_SparseArray\u001b[0m\u001b[0;34m\u001b[0m\u001b[0;34m\u001b[0m\u001b[0m\n\u001b[1;32m    243\u001b[0m \u001b[0;34m\u001b[0m\u001b[0m\n\u001b[0;32m--> 244\u001b[0;31m     \u001b[0;32mraise\u001b[0m \u001b[0mAttributeError\u001b[0m\u001b[0;34m(\u001b[0m\u001b[0;34mf\"module 'pandas' has no attribute '{name}'\"\u001b[0m\u001b[0;34m)\u001b[0m\u001b[0;34m\u001b[0m\u001b[0;34m\u001b[0m\u001b[0m\n\u001b[0m\u001b[1;32m    245\u001b[0m \u001b[0;34m\u001b[0m\u001b[0m\n\u001b[1;32m    246\u001b[0m \u001b[0;34m\u001b[0m\u001b[0m\n",
      "\u001b[0;31mAttributeError\u001b[0m: module 'pandas' has no attribute 'download'"
     ]
    }
   ],
   "source": [
    "#export logistic regression output\n",
    "with open('sydney_logistic_regresion_summary.csv', 'w') as fh:\n",
    "    fh.write(sydney_fit.summary().as_csv())\n",
    "\n",
    "pd.download('sydney_logistic_regresion_summary.csv')"
   ]
  }
 ],
 "metadata": {
  "kernelspec": {
   "display_name": "Python 3 (ipykernel)",
   "language": "python",
   "name": "python3"
  },
  "language_info": {
   "codemirror_mode": {
    "name": "ipython",
    "version": 3
   },
   "file_extension": ".py",
   "mimetype": "text/x-python",
   "name": "python",
   "nbconvert_exporter": "python",
   "pygments_lexer": "ipython3",
   "version": "3.9.7"
  }
 },
 "nbformat": 4,
 "nbformat_minor": 5
}
